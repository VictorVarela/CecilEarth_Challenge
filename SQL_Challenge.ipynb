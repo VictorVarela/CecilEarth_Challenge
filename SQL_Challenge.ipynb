{
 "cells": [
  {
   "cell_type": "markdown",
   "id": "c469ace0-4e95-4cb3-8847-fc6cd6df8987",
   "metadata": {},
   "source": [
    "2. SQL Challenge (Use SQL for this section)\n",
    "\n",
    "The business would like to understand what the overlap is between 2018 payment totals for their biggest clients and the rank of the overall payment totals within each entity. Note defaults do not count as payments.\n",
    "\n",
    "Please provide a csv containing the client IDs for 2018's top 20 clients when sorted on payment amount, the entity type, 2018's total payment amount, and their overall (across all years) payment amount rank within the entity they belong to. Also include your SQL code."
   ]
  },
  {
   "cell_type": "code",
   "execution_count": 1,
   "id": "c58147ae-9133-4027-81d7-61f39475e195",
   "metadata": {
    "tags": []
   },
   "outputs": [],
   "source": [
    "import pandas as pd\n",
    "from pandasql import sqldf"
   ]
  },
  {
   "cell_type": "code",
   "execution_count": 2,
   "id": "d2dc02a4-719d-44d0-9aad-270e4b425c35",
   "metadata": {
    "tags": []
   },
   "outputs": [],
   "source": [
    "# Load Clients dataFrame:\n",
    "clients = pd.read_csv('Database/Clients.csv')\n",
    "\n",
    "# Load Payments dataFrame:\n",
    "payments = pd.read_csv('Database/Payments.csv')"
   ]
  },
  {
   "cell_type": "markdown",
   "id": "02c84fa0-3f40-4786-81a4-3d3be8deb3a3",
   "metadata": {},
   "source": [
    "### SQL"
   ]
  },
  {
   "cell_type": "code",
   "execution_count": 4,
   "id": "4bdc201d-b65d-4084-a3dc-8f64bc99b170",
   "metadata": {
    "tags": []
   },
   "outputs": [],
   "source": [
    "\n",
    "\n",
    "query='''\n",
    "\n",
    "-- Clean duplicated client_id (For this exercise, we will use the first entry (oldest duplicated entry))\n",
    "\n",
    "WITH cleanedClients AS(\n",
    "SELECT \n",
    "    client_id,\n",
    "    entity_type, \n",
    "    MIN(entity_year_established) AS entity_year_established\n",
    "    \n",
    "FROM clients\n",
    "\n",
    "GROUP BY client_id\n",
    "),\n",
    "\n",
    "--########## Payment and left join clients #######\n",
    "-- Merge payments and convert date to get year:\n",
    "\n",
    "merged AS(\n",
    "SELECT \n",
    "    *, \n",
    "    strftime('%Y', datetime(transaction_date, 'unixepoch')) AS year\n",
    "    \n",
    "FROM payments\n",
    "\n",
    "LEFT JOIN cleanedClients ON cleanedClients.client_id = payments.client_id\n",
    "\n",
    "WHERE payment_code = 'PAYMENT'\n",
    "),\n",
    "\n",
    "-- ############### 2018 ####################\n",
    "-- GET 2018 RANKED by total_payment_amt\n",
    "\n",
    "get2018_summedPayments AS(\n",
    "SELECT \n",
    "    *, \n",
    "    SUM(payment_amt) AS total_payment_2018\n",
    "\n",
    "FROM merged\n",
    "\n",
    "WHERE merged.year == '2018'\n",
    "\n",
    "GROUP BY client_id\n",
    "\n",
    "ORDER BY total_payment_2018 DESC\n",
    "),\n",
    "\n",
    "ranked_2018 AS(\n",
    "SELECT \n",
    "    *,\n",
    "    ROW_NUMBER() OVER (ORDER BY total_payment_2018 DESC) AS rank_per_payment_2018\n",
    "FROM get2018_summedPayments\n",
    "),\n",
    "-- ############################################\n",
    "\n",
    "-- ########### OVERALL RANKED PER ENTITY TYPE ########################\n",
    "getOverall_summedPayments as(\n",
    "SELECT \n",
    "    *, \n",
    "    SUM(payment_amt) AS total_payment_Overall\n",
    "\n",
    "FROM merged\n",
    "\n",
    "GROUP BY client_id\n",
    "\n",
    "ORDER BY total_payment_Overall desc\n",
    "),\n",
    "\n",
    "ranked_Overall_perEntity AS(\n",
    "SELECT \n",
    "    *,\n",
    "    RANK() OVER (PARTITION BY entity_type ORDER BY total_payment_Overall DESC) AS rank_per_entity_overall\n",
    "    \n",
    "FROM getOverall_summedPayments\n",
    ")\n",
    "\n",
    "-- #############################################\n",
    "-- #############################################\n",
    "\n",
    "-- Joins to make required dataset:\n",
    "\n",
    "SELECT \n",
    "    ranked_2018.rank_per_payment_2018, \n",
    "    cleanedClients.client_id, \n",
    "    cleanedClients.entity_type,  \n",
    "    ranked_2018.total_payment_2018, \n",
    "    ranked_Overall_perEntity.rank_per_entity_overall\n",
    "\n",
    "FROM cleanedClients\n",
    "\n",
    "LEFT JOIN ranked_2018 ON ranked_2018.client_id = cleanedClients.client_id\n",
    "LEFT JOIN ranked_Overall_perEntity ON ranked_Overall_perEntity.client_id = cleanedClients.client_id\n",
    "\n",
    "ORDER BY ranked_2018.total_payment_2018 DESC\n",
    "\n",
    "LIMIT 20\n",
    "'''\n",
    "\n",
    "\n",
    "\n",
    "sqldf(query, env=None).to_csv('challenge_response.csv',index=False)"
   ]
  },
  {
   "cell_type": "code",
   "execution_count": null,
   "id": "acc0a852-e392-4c7e-b22f-d5a4b2bc1a0e",
   "metadata": {},
   "outputs": [],
   "source": []
  }
 ],
 "metadata": {
  "kernelspec": {
   "display_name": "Python 3 (ipykernel)",
   "language": "python",
   "name": "python3"
  },
  "language_info": {
   "codemirror_mode": {
    "name": "ipython",
    "version": 3
   },
   "file_extension": ".py",
   "mimetype": "text/x-python",
   "name": "python",
   "nbconvert_exporter": "python",
   "pygments_lexer": "ipython3",
   "version": "3.11.4"
  }
 },
 "nbformat": 4,
 "nbformat_minor": 5
}
